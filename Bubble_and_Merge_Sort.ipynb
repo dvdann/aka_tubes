{
  "cells": [
    {
      "cell_type": "code",
      "execution_count": 1,
      "metadata": {
        "id": "aichbQBW7i0w"
      },
      "outputs": [],
      "source": [
        "#Get seed for random number\n",
        "from random import seed\n",
        "from random import randint\n",
        "\n",
        "#For get datetime now => For time execution\n",
        "from datetime import datetime\n",
        "import pandas as pd\n",
        "\n",
        "#For Plot Visualiasation\n",
        "import matplotlib.pyplot as plt "
      ]
    },
    {
      "cell_type": "code",
      "execution_count": 2,
      "metadata": {
        "id": "ZvYXKw7U7i02"
      },
      "outputs": [],
      "source": [
        "def cariAngka(N):\n",
        "# seed random number generator\n",
        "    seed(1)\n",
        "    angka = []\n",
        "    for i in range(N):\n",
        "        value = randint(0, N)\n",
        "        angka.append(value) #tangkap random number dalam list\n",
        "    return angka\n",
        "    #print(\"Angka acak adalah sebagai berikut : \\n\",angka)"
      ]
    },
    {
      "cell_type": "code",
      "execution_count": 3,
      "metadata": {
        "scrolled": true,
        "colab": {
          "base_uri": "https://localhost:8080/"
        },
        "id": "zCukuR3S7i06",
        "outputId": "b3aba1a5-468e-44ed-909a-454b76c75a01"
      },
      "outputs": [
        {
          "output_type": "execute_result",
          "data": {
            "text/plain": [
              "[2, 9, 1, 4, 1, 7, 7, 7, 10, 6, 3]"
            ]
          },
          "metadata": {},
          "execution_count": 3
        }
      ],
      "source": [
        "a  = cariAngka(11)\n",
        "a"
      ]
    },
    {
      "cell_type": "code",
      "execution_count": 4,
      "metadata": {
        "id": "NmnAosyr7i1A"
      },
      "outputs": [],
      "source": [
        "#Bubble sort Function\n",
        "def bubbleSort(list):\n",
        "    temp = []\n",
        "    for i in range(len(list)-1, 0, -1):\n",
        "        for j in range(i):\n",
        "            if list[j] < list[j+1]:\n",
        "                temp = list[j]\n",
        "                list[j] = list[j+1]\n",
        "                list[j+1] = temp\n",
        "    return list"
      ]
    },
    {
      "cell_type": "code",
      "execution_count": 5,
      "metadata": {
        "id": "DfwbX9Hx7i1D"
      },
      "outputs": [],
      "source": [
        "#Merge sort Function\n",
        "def mergeSort(_list):\n",
        "    if len(_list) < 2:\n",
        "        return _list\n",
        "    else:\n",
        "        get_center=len(_list)//2\n",
        "        left=_list[:get_center]\n",
        "        right=_list[get_center:]\n",
        "        mergeSort(left)\n",
        "        mergeSort(right)\n",
        "        i=0;j=0;k=0\n",
        "        while i < len (left) and j < len (right):\n",
        "            if left[i]>right[j]:\n",
        "                _list[k]=left[i]\n",
        "                i=i+1\n",
        "            else:\n",
        "                _list[k]=right[j]\n",
        "                j=j+1\n",
        "            k=k+1\n",
        "        while i < len (left):\n",
        "            _list[k]=left[i]\n",
        "            i=i+1\n",
        "            k=k+1\n",
        "\n",
        "        while j < len (right):\n",
        "            _list[k]=right[j]\n",
        "            j=j+1\n",
        "            k=k+1\n",
        "            \n"
      ]
    },
    {
      "cell_type": "code",
      "execution_count": 6,
      "metadata": {
        "id": "al1m2Aro7i1H"
      },
      "outputs": [],
      "source": [
        "def getIteration():\n",
        "    iteration = int(input(\"Jumlah Iteration: \"))\n",
        "    iteration_list = []\n",
        "    for i in range(iteration):\n",
        "        iteration_list.append(int(input(\"Input Batas Iteration ke \"+str(i+1)+\" : \")))\n",
        "\n",
        "    return iteration_list"
      ]
    },
    {
      "cell_type": "code",
      "execution_count": 7,
      "metadata": {
        "colab": {
          "base_uri": "https://localhost:8080/"
        },
        "id": "IwFzkCyk7i1K",
        "outputId": "7d56ee02-61d3-4644-a7af-53efe9d24914"
      },
      "outputs": [
        {
          "output_type": "stream",
          "name": "stdout",
          "text": [
            "Jumlah Iteration: 5\n",
            "Input Batas Iteration ke 1 : 10\n",
            "Input Batas Iteration ke 2 : 100\n",
            "Input Batas Iteration ke 3 : 1000\n",
            "Input Batas Iteration ke 4 : 10000\n",
            "Input Batas Iteration ke 5 : 100000\n",
            "Isi Iteration : \n",
            " [10, 100, 1000, 10000, 100000]\n",
            "\n",
            "\n",
            "Iteration dengan jumlah =  10\n",
            "bubble execution time: 22.0 Microseconds\n",
            "Merge execution time: 28.0 Microseconds\n",
            "\n",
            "\n",
            "Iteration dengan jumlah =  100\n",
            "bubble execution time: 1176.0 Microseconds\n",
            "Merge execution time: 464.0 Microseconds\n",
            "\n",
            "\n",
            "Iteration dengan jumlah =  1000\n",
            "bubble execution time: 118234.0 Microseconds\n",
            "Merge execution time: 5779.0 Microseconds\n",
            "\n",
            "\n",
            "Iteration dengan jumlah =  10000\n",
            "bubble execution time: 11724483.0 Microseconds\n",
            "Merge execution time: 62318.0 Microseconds\n",
            "\n",
            "\n",
            "Iteration dengan jumlah =  100000\n",
            "bubble execution time: 1420871930.0 Microseconds\n",
            "Merge execution time: 886337.0 Microseconds\n",
            "\n",
            "\n"
          ]
        }
      ],
      "source": [
        "#main program\n",
        "\n",
        "bubbleExecutionList = []\n",
        "mergeExecutionList = []\n",
        "\n",
        "#Get Iteration From User\n",
        "list_iteration = getIteration()\n",
        "print(\"Isi Iteration : \\n\",list_iteration)\n",
        "print(\"\\n\")\n",
        "\n",
        "for i in range(len(list_iteration)):\n",
        "    \n",
        "    #Start Execution Time\n",
        "    print(\"Iteration dengan jumlah =  \"+str(list_iteration[i]))\n",
        "    \n",
        "    \n",
        "    #Bubble Sort\n",
        "    list_value = cariAngka(list_iteration[i]) #Get Number in Iteration\n",
        "    #print(\"List Angka adalah sebagai berikut : \\n\",list_value)\n",
        "    \n",
        "    start_time = datetime.now() #Start Execution Time\n",
        "    bubbleSort(list_value) #Call Bubble Sort\n",
        "    \n",
        "    #print(\"Setelah di Bubble Sort : \\n\",list_value)\n",
        "    #print(\"---seconds ---\"+str(datetime.now() - start_time).total_seconds())\n",
        "    ex_time = datetime.now() - start_time\n",
        "    bubbleExecutionList.append(ex_time.total_seconds()*1000000) #Append Ex Time to List\n",
        "    print(\"bubble execution time: \"+ str(ex_time.total_seconds()*1000000) +\" Microseconds\")\n",
        "    \n",
        "    #Merge Sort\n",
        "    list_value = cariAngka(list_iteration[i]) #Get Number in Iteration\n",
        "    #print(\"List Angka adalah sebagai berikut : \\n\",list_value)\n",
        "    \n",
        "    start_time = datetime.now() #Start Execution Time\n",
        "    mergeSort(list_value)  #Call Merge Sort\n",
        "    \n",
        "    ex_time = datetime.now() - start_time\n",
        "    mergeExecutionList.append(ex_time.total_seconds()*1000000) #Append Ex Time to List\n",
        "    print(\"Merge execution time: \"+str(ex_time.total_seconds()*1000000)+\" Microseconds\")\n",
        "    #print(\"Setelah di Merge : \\n\",list_value)\n",
        "    #print(\"--- %s seconds ---\" % (time.time() - start_time))\n",
        "    print(\"\\n\")\n",
        "    \n",
        "    \n",
        "    "
      ]
    },
    {
      "cell_type": "code",
      "execution_count": 8,
      "metadata": {
        "colab": {
          "base_uri": "https://localhost:8080/"
        },
        "id": "DIsiW4nb7i1Q",
        "outputId": "e6919bc8-abc9-4417-8d4f-38d6a6060ab8"
      },
      "outputs": [
        {
          "output_type": "execute_result",
          "data": {
            "text/plain": [
              "[22.0, 1176.0, 118234.0, 11724483.0, 1420871930.0]"
            ]
          },
          "metadata": {},
          "execution_count": 8
        }
      ],
      "source": [
        "bubbleExecutionList #running time list bubble sort"
      ]
    },
    {
      "cell_type": "code",
      "execution_count": 9,
      "metadata": {
        "scrolled": true,
        "colab": {
          "base_uri": "https://localhost:8080/"
        },
        "id": "RXOhGx_17i1T",
        "outputId": "8ec872ea-2a18-4a5b-febe-9636b4f2504d"
      },
      "outputs": [
        {
          "output_type": "execute_result",
          "data": {
            "text/plain": [
              "[28.0, 464.0, 5779.0, 62318.0, 886337.0]"
            ]
          },
          "metadata": {},
          "execution_count": 9
        }
      ],
      "source": [
        "mergeExecutionList #running time list merge sort"
      ]
    },
    {
      "cell_type": "code",
      "execution_count": 10,
      "metadata": {
        "colab": {
          "base_uri": "https://localhost:8080/"
        },
        "id": "FUIEb9lc7i1X",
        "outputId": "25843f5b-083e-4b81-ab51-47e7ca90564d"
      },
      "outputs": [
        {
          "output_type": "execute_result",
          "data": {
            "text/plain": [
              "[22.0,\n",
              " 28.0,\n",
              " 464.0,\n",
              " 1176.0,\n",
              " 5779.0,\n",
              " 62318.0,\n",
              " 118234.0,\n",
              " 886337.0,\n",
              " 11724483.0,\n",
              " 1420871930.0]"
            ]
          },
          "metadata": {},
          "execution_count": 10
        }
      ],
      "source": [
        "all_List = bubbleExecutionList+mergeExecutionList #gabungkan list\n",
        "all_List = list(dict.fromkeys(all_List)) # hilangkan angka yg sama\n",
        "all_List.sort() #urutkan dari terkecil\n",
        "all_List"
      ]
    },
    {
      "cell_type": "code",
      "execution_count": 11,
      "metadata": {
        "colab": {
          "base_uri": "https://localhost:8080/"
        },
        "id": "W3PNPORF7i1Z",
        "outputId": "4d2f8628-0e23-4793-d062-ace5da3087b9"
      },
      "outputs": [
        {
          "output_type": "execute_result",
          "data": {
            "text/plain": [
              "['10', '100', '1000', '10000', '100000']"
            ]
          },
          "metadata": {},
          "execution_count": 11
        }
      ],
      "source": [
        "str_list_iteration = []\n",
        "for i in range(len(list_iteration)):\n",
        "    str_list_iteration.append(str(list_iteration[i]))\n",
        "    \n",
        "str_list_iteration  "
      ]
    },
    {
      "cell_type": "code",
      "execution_count": 12,
      "metadata": {
        "colab": {
          "base_uri": "https://localhost:8080/",
          "height": 847
        },
        "id": "itv5rWtg7i1c",
        "outputId": "c3fb9f1a-af82-4bdb-9ee1-f85fae500955"
      },
      "outputs": [
        {
          "output_type": "display_data",
          "data": {
            "image/png": "[encoded data removed]",
            "text/plain": [
              "<Figure size 1440x1080 with 1 Axes>"
            ]
          },
          "metadata": {
            "needs_background": "light"
          }
        }
      ],
      "source": [
        "plt.figure(figsize=(20, 15))\n",
        "plt.xlabel('Lenght Data (N)')\n",
        "plt.ylabel('Time Execution (Microseconds)')\n",
        "plt.title('Bar Chart of BubbeSort')\n",
        "#plt.figure(figsize=(50, 50))\n",
        "plt.yticks(bubbleExecutionList)\n",
        "plt.bar(str_list_iteration, bubbleExecutionList, color = \"red\" , label = 'Bubble Sort')\n",
        "\n",
        "plt.show()"
      ]
    },
    {
      "cell_type": "code",
      "execution_count": 13,
      "metadata": {
        "colab": {
          "base_uri": "https://localhost:8080/",
          "height": 858
        },
        "id": "bPy37H5L7i1e",
        "outputId": "b8ab2ac6-a530-4467-835b-13dca1a7b309"
      },
      "outputs": [
        {
          "output_type": "execute_result",
          "data": {
            "text/plain": [
              "<BarContainer object of 5 artists>"
            ]
          },
          "metadata": {},
          "execution_count": 13
        },
        {
          "output_type": "display_data",
          "data": {
            "image/png": "[encoded data removed]",
            "text/plain": [
              "<Figure size 1440x1080 with 1 Axes>"
            ]
          },
          "metadata": {
            "needs_background": "light"
          }
        }
      ],
      "source": [
        "plt.figure(figsize=(20, 15))\n",
        "plt.xlabel('Lenght Data (N)')\n",
        "plt.ylabel('Time Execution (Microseconds)')\n",
        "plt.title('Bar Chart of MergeSort')\n",
        "plt.yticks(mergeExecutionList)\n",
        "plt.bar(str_list_iteration, mergeExecutionList, color = \"blue\" , label = 'Merge Sort')"
      ]
    },
    {
      "cell_type": "code",
      "execution_count": 14,
      "metadata": {
        "colab": {
          "base_uri": "https://localhost:8080/",
          "height": 756
        },
        "id": "MXcJj9A47i1h",
        "outputId": "c833a317-052e-47d7-8b6c-b69ec08f4cbb"
      },
      "outputs": [
        {
          "output_type": "display_data",
          "data": {
            "image/png": "[encoded data removed]",
            "text/plain": [
              "<Figure size 2160x1440 with 1 Axes>"
            ]
          },
          "metadata": {
            "needs_background": "light"
          }
        }
      ],
      "source": [
        "plt.figure(figsize=(30, 20))\n",
        "plt.plot(str_list_iteration, bubbleExecutionList, label = 'Bubble Sort', marker='o', linewidth=4)\n",
        "plt.plot(str_list_iteration, mergeExecutionList,   label = 'Merge Sort',  marker='o', linewidth=4)\n",
        "\n",
        "plt.xlabel('Lenght Data (N)')\n",
        "plt.ylabel('Time Execution (Microseconds)')\n",
        "plt.legend(loc='upper left')\n",
        "plt.xticks(str_list_iteration)\n",
        "plt.yticks(all_List)\n",
        "plt.title('Line Chart of Sort')\n",
        "\n",
        "plt.show()"
      ]
    },
    {
      "cell_type": "code",
      "execution_count": null,
      "metadata": {
        "id": "tROjYGpS7i1j"
      },
      "outputs": [],
      "source": [
        ""
      ]
    }
  ],
  "metadata": {
    "kernelspec": {
      "display_name": "Python 3",
      "language": "python",
      "name": "python3"
    },
    "language_info": {
      "codemirror_mode": {
        "name": "ipython",
        "version": 3
      },
      "file_extension": ".py",
      "mimetype": "text/x-python",
      "name": "python",
      "nbconvert_exporter": "python",
      "pygments_lexer": "ipython3",
      "version": "3.8.5"
    },
    "colab": {
      "name": "Bubble and Merge Sort.ipynb",
      "provenance": [],
      "collapsed_sections": []
    }
  },
  "nbformat": 4,
  "nbformat_minor": 0
}